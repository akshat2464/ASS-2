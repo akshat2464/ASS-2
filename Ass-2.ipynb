{
 "cells": [
  {
   "cell_type": "code",
   "execution_count": null,
   "id": "403a5f66",
   "metadata": {},
   "outputs": [],
   "source": [
    "#Q1\n",
    "Commenting code in pyhton is done by Hash symbol\"#\" \n",
    "there are two types of comments \n",
    "1. single line comment.(#)\n",
    "2. multi line commentsusing \"\"\"\"\"\n",
    "            the tripple inverted or tripple double inverted commas are used for multi line comment\n",
    "            \"\"\""
   ]
  },
  {
   "cell_type": "code",
   "execution_count": null,
   "id": "bcfff9b5",
   "metadata": {},
   "outputs": [],
   "source": [
    "#Q2\n",
    "Variables are containes for storing values\n",
    "Python has no command for declaring a variable\n",
    "Values are being assing using \"=\"operator or assignment operators"
   ]
  },
  {
   "cell_type": "code",
   "execution_count": 1,
   "id": "cf47e13e",
   "metadata": {},
   "outputs": [
    {
     "data": {
      "text/plain": [
       "2.0"
      ]
     },
     "execution_count": 1,
     "metadata": {},
     "output_type": "execute_result"
    }
   ],
   "source": [
    "#Q3\n",
    "# Using typecasting we can easily convert one datatype into another by following example\n",
    "x= int(2)\n",
    "y=float(x)\n",
    "x\n",
    "y"
   ]
  },
  {
   "cell_type": "code",
   "execution_count": 2,
   "id": "e63e9a24",
   "metadata": {},
   "outputs": [],
   "source": [
    "#q4\n",
    "# Write the code in notepad aor any other application\n",
    "#go in command prompt\n",
    "#locate the directory\n",
    "#By using python interpreter run and execute the code"
   ]
  },
  {
   "cell_type": "code",
   "execution_count": 3,
   "id": "e66979b8",
   "metadata": {},
   "outputs": [
    {
     "data": {
      "text/plain": [
       "[2, 3]"
      ]
     },
     "execution_count": 3,
     "metadata": {},
     "output_type": "execute_result"
    }
   ],
   "source": [
    "#Q5\n",
    "my_list=[1,2,3,4,5]\n",
    "sub_list=list(my_list[1:3])\n",
    "sub_list"
   ]
  },
  {
   "cell_type": "code",
   "execution_count": 4,
   "id": "2f042d54",
   "metadata": {},
   "outputs": [
    {
     "data": {
      "text/plain": [
       "complex"
      ]
     },
     "execution_count": 4,
     "metadata": {},
     "output_type": "execute_result"
    }
   ],
   "source": [
    "#Q6\n",
    "#Complex no. in mathematics is an imaginary no. which is represented  by\"i\"in maths whose value is (root -1)\n",
    "#In python complex no. is represented by\"j\" keyword.\n",
    "#eg.\n",
    "a=5+4j\n",
    "type(a)"
   ]
  },
  {
   "cell_type": "code",
   "execution_count": 5,
   "id": "8aeadbb5",
   "metadata": {},
   "outputs": [],
   "source": [
    "#Q7\n",
    "age = 25"
   ]
  },
  {
   "cell_type": "code",
   "execution_count": 6,
   "id": "2fd126fa",
   "metadata": {},
   "outputs": [
    {
     "data": {
      "text/plain": [
       "float"
      ]
     },
     "execution_count": 6,
     "metadata": {},
     "output_type": "execute_result"
    }
   ],
   "source": [
    "#Q8\n",
    "price = 9.99\n",
    "#Its  a float data type\n",
    "type(price)"
   ]
  },
  {
   "cell_type": "code",
   "execution_count": 7,
   "id": "afdc9a14",
   "metadata": {},
   "outputs": [
    {
     "data": {
      "text/plain": [
       "'AKSHAT KUMAR GUPTA'"
      ]
     },
     "execution_count": 7,
     "metadata": {},
     "output_type": "execute_result"
    }
   ],
   "source": [
    "#Q9\n",
    "name= \"AKSHAT KUMAR GUPTA\"\n",
    "\"\"\" Wwe can wasily call a variable in pyhton bu just writing the variabe name\"\"\"\n",
    "name"
   ]
  },
  {
   "cell_type": "code",
   "execution_count": 8,
   "id": "b7259565",
   "metadata": {},
   "outputs": [
    {
     "data": {
      "text/plain": [
       "'World'"
      ]
     },
     "execution_count": 8,
     "metadata": {},
     "output_type": "execute_result"
    }
   ],
   "source": [
    "#Q10\n",
    "a =\"Hello, World!\"\n",
    "a[7:12]"
   ]
  },
  {
   "cell_type": "code",
   "execution_count": 9,
   "id": "bfefdbb7",
   "metadata": {},
   "outputs": [
    {
     "name": "stdout",
     "output_type": "stream",
     "text": [
      "yes\n"
     ]
    },
    {
     "data": {
      "text/plain": [
       "True"
      ]
     },
     "execution_count": 9,
     "metadata": {},
     "output_type": "execute_result"
    }
   ],
   "source": [
    "student= str(input())\n",
    "if (student == \"yes\"):\n",
    "                is_student=True\n",
    "                \n",
    "else:\n",
    "                is_student=False\n",
    "is_student"
   ]
  },
  {
   "cell_type": "code",
   "execution_count": null,
   "id": "58599e6c",
   "metadata": {},
   "outputs": [],
   "source": []
  }
 ],
 "metadata": {
  "kernelspec": {
   "display_name": "Python 3 (ipykernel)",
   "language": "python",
   "name": "python3"
  },
  "language_info": {
   "codemirror_mode": {
    "name": "ipython",
    "version": 3
   },
   "file_extension": ".py",
   "mimetype": "text/x-python",
   "name": "python",
   "nbconvert_exporter": "python",
   "pygments_lexer": "ipython3",
   "version": "3.9.13"
  }
 },
 "nbformat": 4,
 "nbformat_minor": 5
}
